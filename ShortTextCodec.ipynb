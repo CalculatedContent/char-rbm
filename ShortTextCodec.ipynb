{
 "cells": [
  {
   "cell_type": "markdown",
   "metadata": {
    "ExecuteTime": {
     "end_time": "2016-08-03T12:09:04.391407",
     "start_time": "2016-08-03T12:09:04.386928"
    }
   },
   "source": [
    "# Exploration of ShortTextCodec\n",
    "\n",
    "executing %load ShortTextCodec.py  will include the text directly into the notebook (eh)\n",
    "\n",
    "so it looks like we are duplicating code"
   ]
  },
  {
   "cell_type": "code",
   "execution_count": 10,
   "metadata": {
    "ExecuteTime": {
     "end_time": "2016-08-03T12:13:02.820727",
     "start_time": "2016-08-03T12:13:02.521286"
    },
    "collapsed": false
   },
   "outputs": [],
   "source": [
    "# %load ShortTextCodec.py\n",
    "from sklearn.utils import issparse\n",
    "import numpy as np\n",
    "import random\n",
    "\n",
    "\n",
    "class NonEncodableTextException(Exception):\n",
    "    \n",
    "    def __init__(self, reason=None, *args):\n",
    "        self.reason = reason\n",
    "        super(NonEncodableTextException, self).__init__(*args)\n",
    "\n",
    "\n",
    "class ShortTextCodec(object):\n",
    "    # TODO: problematic if this char appears in the training text\n",
    "    FILLER = '$' \n",
    "\n",
    "    # If a one-hot vector can't be decoded meaningfully, render this char in its place\n",
    "    MYSTERY = '?'\n",
    "\n",
    "    # Backward-compatibility. Was probably a mistake to have FILLER be a class var rather than instance\n",
    "    @property\n",
    "    def filler(self):\n",
    "        if self.__class__.FILLER in self.alphabet:\n",
    "            return self.__class__.FILLER\n",
    "        # Old versions of this class used ' ' as filler\n",
    "        return ' '\n",
    "\n",
    "    def __init__(self, extra_chars, maxlength, minlength=0, preserve_case=False, leftpad=False):\n",
    "        assert 0 <= minlength <= maxlength\n",
    "        if self.FILLER not in extra_chars and maxlength != minlength:\n",
    "            extra_chars = self.FILLER + extra_chars\n",
    "        self.maxlen = maxlength\n",
    "        self.minlen = minlength\n",
    "        self.char_lookup = {}\n",
    "        self.leftpad_ = leftpad\n",
    "        self.alphabet = ''\n",
    "        for i, o in enumerate(range(ord('a'), ord('z') + 1)):\n",
    "            self.char_lookup[chr(o)] = i\n",
    "            self.alphabet += chr(o)\n",
    "        nextidx = len(self.alphabet)\n",
    "        for i, o in enumerate(range(ord('A'), ord('Z') + 1)):\n",
    "            if preserve_case:\n",
    "                self.char_lookup[chr(o)] = nextidx\n",
    "                nextidx += 1\n",
    "                self.alphabet += chr(o)\n",
    "            else:\n",
    "                self.char_lookup[chr(o)] = i\n",
    "\n",
    "        offset = len(self.alphabet)\n",
    "        for i, extra in enumerate(extra_chars):\n",
    "            self.char_lookup[extra] = i + offset\n",
    "            self.alphabet += extra\n",
    "\n",
    "    def debug_description(self):\n",
    "        return ' '.join('{}={}'.format(attr, repr(getattr(self, attr, None))) for attr in ['maxlen', 'minlen', 'leftpad', 'alphabet', 'nchars'])\n",
    "\n",
    "    @property\n",
    "    def leftpad(self):\n",
    "        return getattr(self, 'leftpad_', False)\n",
    "\n",
    "    @property\n",
    "    def nchars(self):\n",
    "        return len(self.alphabet)\n",
    "\n",
    "    @property\n",
    "    def non_special_char_alphabet(self):\n",
    "        return ''.join(c for c in self.alphabet if (c != ' ' and c != self.FILLER)) \n",
    "\n",
    "    def _encode(self, s, padlen):\n",
    "        if len(s) > padlen:\n",
    "            raise NonEncodableTextException(reason='toolong')\n",
    "        padding = [self.char_lookup[self.filler] for _ in range(padlen - len(s))]\n",
    "        try:\n",
    "            payload = [self.char_lookup[c] for c in s]\n",
    "        except KeyError:\n",
    "            raise NonEncodableTextException(reason='illegal_char')\n",
    "        if self.leftpad:\n",
    "            return padding + payload\n",
    "        else:\n",
    "            return payload + padding\n",
    "\n",
    "\n",
    "    def encode(self, s, mutagen=None):\n",
    "        if len(s) > self.maxlen: \n",
    "            raise NonEncodableTextException(reason='toolong')\n",
    "        elif (hasattr(self, 'minlen') and len(s) < self.minlen):\n",
    "            raise NonEncodableTextException(reason='tooshort')\n",
    "        if mutagen:\n",
    "            s = mutagen(s)\n",
    "        return self._encode(s, self.maxlen)\n",
    "\n",
    "    def encode_onehot(self, s):\n",
    "        indices = self.encode(s)\n",
    "        return np.eye(self.nchars)[indices].ravel()\n",
    "\n",
    "    def decode(self, vec, pretty=False, strict=True):\n",
    "        # TODO: Whether we should use 'strict' mode depends on whether the model\n",
    "        # we got this vector from does softmax sampling of visibles. Anywhere this\n",
    "        # is called on fantasy samples, we should use the model to set this param.\n",
    "        if issparse(vec):\n",
    "            vec = vec.toarray().reshape(-1)\n",
    "        assert vec.shape == (self.nchars * self.maxlen,)\n",
    "        chars = []\n",
    "        for position_index in range(self.maxlen):\n",
    "            # Hack - insert a tab between name parts in binomial mode\n",
    "            if isinstance(self, BinomialShortTextCodec) and pretty and position_index == self.maxlen/2:\n",
    "                chars.append('\\t')\n",
    "            subarr = vec[position_index * self.nchars:(position_index + 1) * self.nchars]\n",
    "            if np.count_nonzero(subarr) != 1 and strict:\n",
    "                char = self.MYSTERY\n",
    "            else:\n",
    "                char_index = np.argmax(subarr)\n",
    "                char = self.alphabet[char_index]\n",
    "                if pretty and char == self.FILLER:\n",
    "                    # Hack\n",
    "                    char = ' ' if isinstance(self, BinomialShortTextCodec) else ''\n",
    "            chars.append(char)\n",
    "        return ''.join(chars)\n",
    "\n",
    "    def shape(self):\n",
    "        \"\"\"The shape of a set of RBM inputs given this codecs configuration.\"\"\"\n",
    "        return (self.maxlen, len(self.alphabet))\n",
    "\n",
    "    def mutagen_nudge(self, s):\n",
    "        # Mutate a single character chosen uniformly at random.\n",
    "        # If s is shorter than the max length, include an extra virtual character at the end\n",
    "        i = random.randint(0, min(len(s), self.maxlen-1))\n",
    "        def roll(forbidden):\n",
    "            newchar = random.choice(self.alphabet)\n",
    "            while newchar in forbidden:\n",
    "                newchar = random.choice(self.alphabet)\n",
    "            return newchar\n",
    "                \n",
    "        if i == len(s):\n",
    "            return s + roll(self.FILLER + ' ')\n",
    "        if i == len(s)-1:\n",
    "            replacement = roll(' ' + s[-1])\n",
    "            if replacement == self.FILLER:\n",
    "                return s[:-1]\n",
    "            return s[:-1] + roll(' ' + s[-1])\n",
    "        else:\n",
    "            return s[:i] + roll(s[i] + self.FILLER) + s[i+1:]\n",
    "\n",
    "\n",
    "    def mutagen_silhouettes(self, s):\n",
    "        newchars = []\n",
    "        for char in s:\n",
    "            if char == ' ':\n",
    "                newchars.append(char)\n",
    "            else:\n",
    "                newchars.append(random.choice(self.non_special_char_alphabet))\n",
    "        return ''.join(newchars)\n",
    "        \n",
    "    def mutagen_noise(self, s):\n",
    "        return ''.join(random.choice(self.alphabet) for _ in range(self.maxlen))\n",
    "\n",
    "class BinomialShortTextCodec(ShortTextCodec):\n",
    "    \"\"\"Encodes two-part names (e.g. \"John Smith\"), padding each part separately\n",
    "    to the same length. (Presumed to  help learning.)\n",
    "    \"\"\"\n",
    "\n",
    "    def __init__(self, *args, **kwargs):\n",
    "        super(BinomialShortTextCodec, self).__init__(*args, **kwargs)\n",
    "        self.separator = ','\n",
    "        # Hack: require maxlen to be even, and give each part of the name\n",
    "        # an equal share\n",
    "        assert self.maxlen % 2 == 0, \"Maxlen must be even for binomial codec\"\n",
    "\n",
    "    def encode(self, s, mutagen=None):\n",
    "        namelen = self.maxlen / 2\n",
    "        if self.separator not in s:\n",
    "            first = s\n",
    "            last = ''\n",
    "        else:\n",
    "            try:\n",
    "                last, first = s.split(self.separator)\n",
    "            except ValueError:\n",
    "                raise NonEncodableTextException(reason='too many separators')\n",
    "        last = last.strip()\n",
    "        first = first.strip()\n",
    "        if mutagen:\n",
    "            first = mutagen(first)\n",
    "            last = mutagen(last)\n",
    "        return self._encode(first, namelen) + self._encode(last, namelen)\n",
    "\n",
    "    # We don't really need to override decode(). It should do basically the right\n",
    "    # thing (modulo some funny spacing)\n",
    "\n",
    "    # TODO: Probably *do* need to override some or all mutagen methods. Leaving\n",
    "    # them for now since they're only necessary for evaluation.\n"
   ]
  },
  {
   "cell_type": "code",
   "execution_count": 7,
   "metadata": {
    "ExecuteTime": {
     "end_time": "2016-08-03T12:12:22.214122",
     "start_time": "2016-08-03T12:12:22.209597"
    },
    "collapsed": true
   },
   "outputs": [],
   "source": [
    "extra_chars = \".-\"\n",
    "max_text_length = 60\n",
    "min_text_length = 3\n",
    "preserve_case = 0\n",
    "left = False"
   ]
  },
  {
   "cell_type": "code",
   "execution_count": 8,
   "metadata": {
    "ExecuteTime": {
     "end_time": "2016-08-03T12:12:23.829696",
     "start_time": "2016-08-03T12:12:23.826333"
    },
    "collapsed": true
   },
   "outputs": [],
   "source": [
    "codec = ShortTextCodec(extra_chars, max_text_length, min_text_length, preserve_case, left)"
   ]
  },
  {
   "cell_type": "code",
   "execution_count": 14,
   "metadata": {
    "ExecuteTime": {
     "end_time": "2016-08-03T12:22:07.819275",
     "start_time": "2016-08-03T12:22:07.815994"
    },
    "collapsed": false
   },
   "outputs": [
    {
     "name": "stdout",
     "output_type": "stream",
     "text": [
      "60\n"
     ]
    }
   ],
   "source": [
    "hw = codec.encode(\"helloworld.com\")\n",
    "print len(hw)"
   ]
  },
  {
   "cell_type": "markdown",
   "metadata": {
    "ExecuteTime": {
     "end_time": "2016-08-03T12:23:22.547615",
     "start_time": "2016-08-03T12:23:22.544790"
    }
   },
   "source": [
    "#### decoder does not work as expected"
   ]
  },
  {
   "cell_type": "code",
   "execution_count": 16,
   "metadata": {
    "ExecuteTime": {
     "end_time": "2016-08-03T12:23:08.724488",
     "start_time": "2016-08-03T12:23:08.706097"
    },
    "collapsed": false
   },
   "outputs": [
    {
     "ename": "AssertionError",
     "evalue": "",
     "output_type": "error",
     "traceback": [
      "\u001b[0;31m---------------------------------------------------------------------------\u001b[0m",
      "\u001b[0;31mAssertionError\u001b[0m                            Traceback (most recent call last)",
      "\u001b[0;32m<ipython-input-16-af411ccf86ef>\u001b[0m in \u001b[0;36m<module>\u001b[0;34m()\u001b[0m\n\u001b[0;32m----> 1\u001b[0;31m \u001b[0mcodec\u001b[0m\u001b[0;34m.\u001b[0m\u001b[0mdecode\u001b[0m\u001b[0;34m(\u001b[0m\u001b[0mnp\u001b[0m\u001b[0;34m.\u001b[0m\u001b[0marray\u001b[0m\u001b[0;34m(\u001b[0m\u001b[0mhw\u001b[0m\u001b[0;34m)\u001b[0m\u001b[0;34m)\u001b[0m\u001b[0;34m\u001b[0m\u001b[0m\n\u001b[0m",
      "\u001b[0;32m<ipython-input-6-76de7bb74d18>\u001b[0m in \u001b[0;36mdecode\u001b[0;34m(self, vec, pretty, strict)\u001b[0m\n\u001b[1;32m    101\u001b[0m         \u001b[0;32mif\u001b[0m \u001b[0missparse\u001b[0m\u001b[0;34m(\u001b[0m\u001b[0mvec\u001b[0m\u001b[0;34m)\u001b[0m\u001b[0;34m:\u001b[0m\u001b[0;34m\u001b[0m\u001b[0m\n\u001b[1;32m    102\u001b[0m             \u001b[0mvec\u001b[0m \u001b[0;34m=\u001b[0m \u001b[0mvec\u001b[0m\u001b[0;34m.\u001b[0m\u001b[0mtoarray\u001b[0m\u001b[0;34m(\u001b[0m\u001b[0;34m)\u001b[0m\u001b[0;34m.\u001b[0m\u001b[0mreshape\u001b[0m\u001b[0;34m(\u001b[0m\u001b[0;34m-\u001b[0m\u001b[0;36m1\u001b[0m\u001b[0;34m)\u001b[0m\u001b[0;34m\u001b[0m\u001b[0m\n\u001b[0;32m--> 103\u001b[0;31m         \u001b[0;32massert\u001b[0m \u001b[0mvec\u001b[0m\u001b[0;34m.\u001b[0m\u001b[0mshape\u001b[0m \u001b[0;34m==\u001b[0m \u001b[0;34m(\u001b[0m\u001b[0mself\u001b[0m\u001b[0;34m.\u001b[0m\u001b[0mnchars\u001b[0m \u001b[0;34m*\u001b[0m \u001b[0mself\u001b[0m\u001b[0;34m.\u001b[0m\u001b[0mmaxlen\u001b[0m\u001b[0;34m,\u001b[0m\u001b[0;34m)\u001b[0m\u001b[0;34m\u001b[0m\u001b[0m\n\u001b[0m\u001b[1;32m    104\u001b[0m         \u001b[0mchars\u001b[0m \u001b[0;34m=\u001b[0m \u001b[0;34m[\u001b[0m\u001b[0;34m]\u001b[0m\u001b[0;34m\u001b[0m\u001b[0m\n\u001b[1;32m    105\u001b[0m         \u001b[0;32mfor\u001b[0m \u001b[0mposition_index\u001b[0m \u001b[0;32min\u001b[0m \u001b[0mrange\u001b[0m\u001b[0;34m(\u001b[0m\u001b[0mself\u001b[0m\u001b[0;34m.\u001b[0m\u001b[0mmaxlen\u001b[0m\u001b[0;34m)\u001b[0m\u001b[0;34m:\u001b[0m\u001b[0;34m\u001b[0m\u001b[0m\n",
      "\u001b[0;31mAssertionError\u001b[0m: "
     ]
    }
   ],
   "source": [
    "codec.decode(np.array(hw))"
   ]
  },
  {
   "cell_type": "code",
   "execution_count": null,
   "metadata": {
    "collapsed": true
   },
   "outputs": [],
   "source": []
  }
 ],
 "metadata": {
  "anaconda-cloud": {},
  "kernelspec": {
   "display_name": "Python [Root]",
   "language": "python",
   "name": "Python [Root]"
  },
  "language_info": {
   "codemirror_mode": {
    "name": "ipython",
    "version": 2
   },
   "file_extension": ".py",
   "mimetype": "text/x-python",
   "name": "python",
   "nbconvert_exporter": "python",
   "pygments_lexer": "ipython2",
   "version": "2.7.12"
  }
 },
 "nbformat": 4,
 "nbformat_minor": 0
}
